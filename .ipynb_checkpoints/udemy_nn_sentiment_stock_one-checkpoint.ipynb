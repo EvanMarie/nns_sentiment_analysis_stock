{
 "cells": [
  {
   "cell_type": "markdown",
   "id": "ed22041e-6067-4b9d-9925-9882952eb150",
   "metadata": {},
   "source": [
    "<a name=''></a>\n",
    "\n",
    "---\n",
    "\n",
    "**Sections:**  ●  [LINK](#link)  ●  [LINK](#link)  ●  [LINK](#link)  ●  [LINK](#link)  ●  [LINK](#link)   ●  [LINK](#link)   ●  [LINK](#link)   ●  [LINK](#link)   ●  [LINK](#link)   ●  [LINK](#link)   ●  [LINK](#link)   ●  [LINK](#link)   ●  [LINK](#link)   ●  [LINK](#link)\n",
    "\n",
    "---\n"
   ]
  },
  {
   "cell_type": "markdown",
   "id": "4a24b847-3ec5-49ef-b03d-75f73467496f",
   "metadata": {},
   "source": [
    "<a name=\"top\"></a>\n",
    "\n",
    "# **Neural Network**\n",
    "## **Sentiment Analysis & Stock Prediction - Part One** \n",
    "\n",
    "### [[Udemy]](https://www.udemy.com/course/neural-networks-for-stock-price-prediction-and-sentiment/)\n",
    "<br>\n",
    "<font size = 5>\n",
    "\n",
    "| [Link](link)  |  [Link](link) | </font>\n",
    "\n",
    "<br>\n",
    "\n",
    "\n",
    "|<font size = 6>Contents:</font>|   |   |   |\n",
    "|---|---|---|---|\n",
    "|<font size = 4>\n",
    "|[LINK](#link) |  |  [LINK](#link)  |   |\n",
    "|[LINK](#link)  |  |  [LINK](#link)  |   |\n",
    "|[LINK](#link)  |  |  [LINK](#link)  |   |\n",
    "|[LINK](#link) |  |  [LINK](#link)  |   |\n",
    "|[LINK](#link)  |  |  [LINK](#link)  |   |\n",
    "|[LINK](#link)  |  |  [LINK](#link)  |   |"
   ]
  },
  {
   "cell_type": "code",
   "execution_count": 1,
   "id": "dea69b2b-9677-4d6c-93b3-6a94b0623064",
   "metadata": {},
   "outputs": [
    {
     "name": "stderr",
     "output_type": "stream",
     "text": [
      "2023-01-18 21:56:27.031086: I tensorflow/core/platform/cpu_feature_guard.cc:193] This TensorFlow binary is optimized with oneAPI Deep Neural Network Library (oneDNN) to use the following CPU instructions in performance-critical operations:  SSE4.1 SSE4.2\n",
      "To enable them in other operations, rebuild TensorFlow with the appropriate compiler flags.\n"
     ]
    }
   ],
   "source": [
    "import numpy as np\n",
    "import pandas as pd\n",
    "import tensorflow as tf\n",
    "import matplotlib.pyplot as plt\n",
    "from sklearn.preprocessing import MinMaxScaler\n",
    "from keras.models import Sequential, load_model\n",
    "from keras.layers import LSTM, Dense, Dropout\n",
    "import os\n",
    "from helpers import *\n",
    "from importlib import reload\n",
    "%matplotlib inline"
   ]
  },
  {
   "cell_type": "markdown",
   "id": "44007a4a-0878-4150-bcaa-b0d29e019517",
   "metadata": {
    "tags": []
   },
   "source": [
    "<a name=''></a>\n",
    "\n",
    "---\n",
    "\n",
    "**Sections:**  ●  [LINK](#link)  ●  [LINK](#link)  ●  [LINK](#link)  ●  [LINK](#link)  ●  [LINK](#link)   ●  [LINK](#link)   ●  [LINK](#link)   ●  [LINK](#link)   ●  [LINK](#link)   ●  [LINK](#link)   ●  [LINK](#link)   ●  [LINK](#link)   ●  [LINK](#link)   ●  [LINK](#link)\n",
    "\n",
    "---\n",
    "\n",
    "<span style = 'background-color: purple; padding: 5px 5px 3px 5px; line-height: 1.5; color:white;border-radius: 3px;'><font size = 4>Apple Data</font></span>"
   ]
  },
  {
   "cell_type": "code",
   "execution_count": 2,
   "id": "3754f5b8-86ea-4f38-8f15-4d046d014abd",
   "metadata": {},
   "outputs": [],
   "source": [
    "aapl = pd.read_csv(\"AAPL.csv\").open"
   ]
  },
  {
   "cell_type": "code",
   "execution_count": 3,
   "id": "1a5fb380-7cb5-4878-83f9-7b7f21b0cd46",
   "metadata": {},
   "outputs": [
    {
     "name": "stdout",
     "output_type": "stream",
     "text": [
      "\n"
     ]
    },
    {
     "data": {
      "text/html": [
       "<span style = 'display: block; width: 190.0px; \t\t\t\t\t\tline-height: 2; background: #333333;\t\t\t\t\t\tmargin-left: auto; margin-right: auto;\t\t\t\t\t\tborder: 1px solid text_color;\t\t\t\t\t\tborder-radius: 3px; text-align: center;\t\t\t\t\t\tpadding: 3px 8px 3px 8px;'>\t\t\t\t\t\t<b><font size=4><text style=color:white>Apple Data: head(5)\t\t\t\t\t\t</text></font></b></style>"
      ],
      "text/plain": [
       "<IPython.core.display.HTML object>"
      ]
     },
     "metadata": {},
     "output_type": "display_data"
    },
    {
     "data": {
      "text/html": [
       "<center><table border=\"1\" class=\"dataframe\">\n",
       "  <thead>\n",
       "    <tr style=\"text-align: right;\">\n",
       "      <th></th>\n",
       "      <th>open</th>\n",
       "    </tr>\n",
       "  </thead>\n",
       "  <tbody>\n",
       "    <tr>\n",
       "      <th>0</th>\n",
       "      <td>67.71</td>\n",
       "    </tr>\n",
       "    <tr>\n",
       "      <th>1</th>\n",
       "      <td>68.07</td>\n",
       "    </tr>\n",
       "    <tr>\n",
       "      <th>2</th>\n",
       "      <td>68.50</td>\n",
       "    </tr>\n",
       "    <tr>\n",
       "      <th>3</th>\n",
       "      <td>66.74</td>\n",
       "    </tr>\n",
       "    <tr>\n",
       "      <th>4</th>\n",
       "      <td>66.36</td>\n",
       "    </tr>\n",
       "  </tbody>\n",
       "</table>"
      ],
      "text/plain": [
       "<IPython.core.display.HTML object>"
      ]
     },
     "metadata": {},
     "output_type": "display_data"
    },
    {
     "name": "stdout",
     "output_type": "stream",
     "text": [
      "\n"
     ]
    },
    {
     "data": {
      "text/html": [
       "<span style = 'display: block; width: 190.0px; \t\t\t\t\t\tline-height: 2; background: #333333;\t\t\t\t\t\tmargin-left: auto; margin-right: auto;\t\t\t\t\t\tborder: 1px solid text_color;\t\t\t\t\t\tborder-radius: 3px; text-align: center;\t\t\t\t\t\tpadding: 3px 8px 3px 8px;'>\t\t\t\t\t\t<b><font size=4><text style=color:white>Apple Data: tail(5)\t\t\t\t\t\t</text></font></b></style>"
      ],
      "text/plain": [
       "<IPython.core.display.HTML object>"
      ]
     },
     "metadata": {},
     "output_type": "display_data"
    },
    {
     "data": {
      "text/html": [
       "<center><table border=\"1\" class=\"dataframe\">\n",
       "  <thead>\n",
       "    <tr style=\"text-align: right;\">\n",
       "      <th></th>\n",
       "      <th>open</th>\n",
       "    </tr>\n",
       "  </thead>\n",
       "  <tbody>\n",
       "    <tr>\n",
       "      <th>1254</th>\n",
       "      <td>167.16</td>\n",
       "    </tr>\n",
       "    <tr>\n",
       "      <th>1255</th>\n",
       "      <td>166.00</td>\n",
       "    </tr>\n",
       "    <tr>\n",
       "      <th>1256</th>\n",
       "      <td>159.10</td>\n",
       "    </tr>\n",
       "    <tr>\n",
       "      <th>1257</th>\n",
       "      <td>154.83</td>\n",
       "    </tr>\n",
       "    <tr>\n",
       "      <th>1258</th>\n",
       "      <td>163.09</td>\n",
       "    </tr>\n",
       "  </tbody>\n",
       "</table>"
      ],
      "text/plain": [
       "<IPython.core.display.HTML object>"
      ]
     },
     "metadata": {},
     "output_type": "display_data"
    },
    {
     "name": "stdout",
     "output_type": "stream",
     "text": [
      "\n"
     ]
    }
   ],
   "source": [
    "head_tail_vert(aapl, 5, \"Apple Data\")"
   ]
  },
  {
   "cell_type": "markdown",
   "id": "e8bab160-b50a-4644-95d9-f8638b2dfb9f",
   "metadata": {},
   "source": [
    "<font size = 4><span style = 'background-color: #ddddff; padding: 5px 5px 3px 5px; line-height: 1.5; color:black;border-radius: 3px;'>Converting to numpy array"
   ]
  },
  {
   "cell_type": "code",
   "execution_count": 4,
   "id": "0083c27b-d878-4da8-9d8e-047d2c745698",
   "metadata": {},
   "outputs": [],
   "source": [
    "aapl_np = aapl.values"
   ]
  },
  {
   "cell_type": "markdown",
   "id": "132c7a47-9869-4c54-b3ab-d1c023722ab9",
   "metadata": {},
   "source": [
    "<font size = 4><span style = 'background-color: #ddddff; padding: 5px 5px 3px 5px; line-height: 1.5; color:black;border-radius: 3px;'>Reshaping for neural network\n",
    "* converting from (1259,) to (1259, 1)"
   ]
  },
  {
   "cell_type": "code",
   "execution_count": 5,
   "id": "5c9fc022-6923-4ec8-89b1-eb781dc86899",
   "metadata": {},
   "outputs": [
    {
     "name": "stdout",
     "output_type": "stream",
     "text": [
      "shape:  (1259, 1)\n",
      "\n"
     ]
    },
    {
     "data": {
      "text/plain": [
       "array([[ 67.7142],\n",
       "       [ 68.0714],\n",
       "       [ 68.5014],\n",
       "       ...,\n",
       "       [159.1   ],\n",
       "       [154.83  ],\n",
       "       [163.085 ]])"
      ]
     },
     "execution_count": 5,
     "metadata": {},
     "output_type": "execute_result"
    }
   ],
   "source": [
    "aapl_np = aapl_np.reshape(-1, 1)\n",
    "print(\"shape: \", aapl_np.shape); sp()\n",
    "\n",
    "aapl_np"
   ]
  },
  {
   "cell_type": "markdown",
   "id": "6b872da6-6670-4985-8d71-50bd1b9ec363",
   "metadata": {},
   "source": [
    "<font size = 4><span style = 'background-color: #ddddff; padding: 5px 5px 3px 5px; line-height: 1.5; color:black;border-radius: 3px;'>Train-Test Split\n",
    "* 80% train\n",
    "* 20% test\n",
    "* 50 overlap - will give first 50 entries for prediction\n",
    "* last 50 days of value to predict the 51st day"
   ]
  },
  {
   "cell_type": "code",
   "execution_count": 6,
   "id": "91414a42-a025-4451-9e2c-1bc140cd68db",
   "metadata": {},
   "outputs": [],
   "source": [
    "aapl_train = np.array(aapl_np[:int(aapl_np.shape[0]*0.8)])\n",
    "aapl_test = np.array(aapl_np[int(aapl_np.shape[0]*0.8)-50:])"
   ]
  },
  {
   "cell_type": "code",
   "execution_count": 7,
   "id": "5847c248-f94c-4756-8899-0818eae6feb0",
   "metadata": {},
   "outputs": [
    {
     "data": {
      "text/plain": [
       "(1007, 1)"
      ]
     },
     "metadata": {},
     "output_type": "display_data"
    },
    {
     "name": "stdout",
     "output_type": "stream",
     "text": [
      "\n"
     ]
    },
    {
     "data": {
      "text/plain": [
       "(302, 1)"
      ]
     },
     "metadata": {},
     "output_type": "display_data"
    },
    {
     "name": "stdout",
     "output_type": "stream",
     "text": [
      "\n"
     ]
    }
   ],
   "source": [
    "d(aapl_train.shape)\n",
    "d(aapl_test.shape)"
   ]
  },
  {
   "cell_type": "markdown",
   "id": "cbec844f-9b02-4ffa-bd56-56ded35e47f2",
   "metadata": {},
   "source": [
    "<font size = 4><span style = 'background-color: #ddddff; padding: 5px 5px 3px 5px; line-height: 1.5; color:black;border-radius: 3px;'>Scaling Training Set\n",
    "* Values scaled 0-1\n",
    "* fitting the training data and transforming/scaling"
   ]
  },
  {
   "cell_type": "code",
   "execution_count": 8,
   "id": "48c0df42-b32a-41ce-92d8-fd9411821687",
   "metadata": {},
   "outputs": [],
   "source": [
    "scaler = MinMaxScaler(feature_range=(0, 1))"
   ]
  },
  {
   "cell_type": "code",
   "execution_count": 9,
   "id": "67bd9e0d-9c4f-4ae8-b33a-4d772310fc95",
   "metadata": {},
   "outputs": [
    {
     "data": {
      "text/plain": [
       "array([[0.15550899],\n",
       "       [0.16002875],\n",
       "       [0.16546966],\n",
       "       ...,\n",
       "       [0.9222455 ],\n",
       "       [0.93262121],\n",
       "       [0.95046235]])"
      ]
     },
     "execution_count": 9,
     "metadata": {},
     "output_type": "execute_result"
    }
   ],
   "source": [
    "aapl_train = scaler.fit_transform(aapl_train)\n",
    "aapl_train"
   ]
  },
  {
   "cell_type": "markdown",
   "id": "7277ad65-a80e-448e-93d6-029ba928df3b",
   "metadata": {},
   "source": [
    "<font size = 4><span style = 'background-color: #ddddff; padding: 5px 5px 3px 5px; line-height: 1.5; color:black;border-radius: 3px;'>Scaling Test Set\n",
    "* only transforming to match the same scaling as training set"
   ]
  },
  {
   "cell_type": "code",
   "execution_count": 10,
   "id": "6cfc9faa-49ee-412d-9bef-017ce6228976",
   "metadata": {},
   "outputs": [
    {
     "data": {
      "text/plain": [
       "array([[0.7048619 ],\n",
       "       [0.70865789],\n",
       "       [0.70043325],\n",
       "       [0.71080895],\n",
       "       [0.69518213],\n",
       "       [0.68006144]])"
      ]
     },
     "execution_count": 10,
     "metadata": {},
     "output_type": "execute_result"
    }
   ],
   "source": [
    "aapl_test = scaler.transform(aapl_test)\n",
    "aapl_test[0:6]"
   ]
  },
  {
   "cell_type": "markdown",
   "id": "3bf63fd0-9334-442b-99f8-177ac121c964",
   "metadata": {},
   "source": [
    "<font size = 4><span style = 'background-color: #ddddff; padding: 5px 5px 3px 5px; line-height: 1.5; color:black;border-radius: 3px;'>Creating Dataset\n",
    "* creating a structure that allows to feed the data into neural network\n",
    "* batches of 50 values to predict the 51st\n",
    "* imagine a slider the size of 50 values moving across the data one value at a time\n",
    "* each time it moves to the next value, it predicts the 51st value again, the next value\n",
    "* `data.shape[0]` refers to the full length of the dataset\n",
    "* each target is the value following the 50 inputs before it"
   ]
  },
  {
   "cell_type": "code",
   "execution_count": 11,
   "id": "5898eade-a373-4560-ae65-693e5f99ab7f",
   "metadata": {},
   "outputs": [],
   "source": [
    "def nn_data_prep(data):\n",
    "\tinputs = []\n",
    "\ttargets = []\n",
    "\tfor item in range(50, data.shape[0]):\n",
    "\t\tinputs.append(data[item - 50: item, 0])\n",
    "\t\ttargets.append(data[item, 0])\n",
    "\tinputs = np.array(inputs)\n",
    "\ttargets = np.array(targets)\n",
    "\t\n",
    "\treturn inputs, targets"
   ]
  },
  {
   "cell_type": "markdown",
   "id": "01a6bd07-8e2a-49ea-bb0c-99bd0f408414",
   "metadata": {},
   "source": [
    "<font size = 4><span style = 'background-color: #ddddff; padding: 5px 5px 3px 5px; line-height: 1.5; color:black;border-radius: 3px;'>Training and Testing Sets"
   ]
  },
  {
   "cell_type": "code",
   "execution_count": 12,
   "id": "252687a9-ce28-42ed-ad53-0a7da6940a52",
   "metadata": {},
   "outputs": [],
   "source": [
    "x_train, y_train = nn_data_prep(aapl_train)\n",
    "x_test, y_test = nn_data_prep(aapl_test)"
   ]
  },
  {
   "cell_type": "code",
   "execution_count": 13,
   "id": "12ef906a-4204-4d68-86b2-603146f7a56d",
   "metadata": {},
   "outputs": [
    {
     "data": {
      "text/plain": [
       "((1, 50), (1, 50))"
      ]
     },
     "execution_count": 13,
     "metadata": {},
     "output_type": "execute_result"
    }
   ],
   "source": [
    "x_train[:1].shape, x_test[:1].shape"
   ]
  },
  {
   "cell_type": "markdown",
   "id": "46ca1294-a608-4752-babd-a3968b6b6066",
   "metadata": {},
   "source": [
    "<font size = 4><span style = 'background-color: #ddddff; padding: 5px 5px 3px 5px; line-height: 1.5; color:black;border-radius: 3px;'>Reshaping the data\n",
    "* Adding another dimension "
   ]
  },
  {
   "cell_type": "code",
   "execution_count": 14,
   "id": "82d1db31-213a-416f-8ba7-68281cfe055b",
   "metadata": {},
   "outputs": [],
   "source": [
    "x_train = np.reshape(x_train, (x_train.shape[0], x_train.shape[1], 1))\n",
    "x_test = np.reshape(x_test, (x_test.shape[0], x_test.shape[1], 1))"
   ]
  },
  {
   "cell_type": "markdown",
   "id": "e88b8b17-4e01-4cfd-ba2a-25f7ce556d3d",
   "metadata": {},
   "source": [
    "<font size = 4><span style = 'background-color: #ddddff; padding: 5px 5px 3px 5px; line-height: 1.5; color:black;border-radius: 3px;'>Constructing Neural Network Model\n",
    "* `units` = layers in the neural network\n",
    "* `return_sequences = True` - the output sent to the next layer\n",
    "* `input_shape = (x_train.shape[1], 1)` - `x_train.shape[1]` = 50, time steps\n",
    "\t* 1 feature - opening price\n",
    "* `Dropout` = 20%\n",
    "* `model.add(Dense(units = 1))` - the prediction\n"
   ]
  },
  {
   "cell_type": "code",
   "execution_count": 15,
   "id": "961d745b-5ef9-4521-8680-c34fa99bc64a",
   "metadata": {},
   "outputs": [
    {
     "name": "stderr",
     "output_type": "stream",
     "text": [
      "2023-01-18 21:56:31.001453: I tensorflow/core/platform/cpu_feature_guard.cc:193] This TensorFlow binary is optimized with oneAPI Deep Neural Network Library (oneDNN) to use the following CPU instructions in performance-critical operations:  SSE4.1 SSE4.2\n",
      "To enable them in other operations, rebuild TensorFlow with the appropriate compiler flags.\n"
     ]
    }
   ],
   "source": [
    "model = Sequential()\n",
    "\n",
    "model.add(LSTM(units = 96, return_sequences = True,\n",
    "\t\t\t   input_shape = (x_train.shape[1], 1)))\n",
    "\n",
    "model.add(Dropout(0.2))\n",
    "model.add(LSTM(units = 96, return_sequences = True))\n",
    "\t\t  \n",
    "model.add(Dropout(0.2))\n",
    "model.add(LSTM(units = 96))\n",
    "\n",
    "model.add(Dropout(0.2))\n",
    "model.add(Dense(units = 1))"
   ]
  },
  {
   "cell_type": "markdown",
   "id": "116ab466-cf62-49ee-9668-2cbc739c5247",
   "metadata": {},
   "source": [
    "<font size = 4><span style = 'background-color: #ddddff; padding: 5px 5px 3px 5px; line-height: 1.5; color:black;border-radius: 3px;'>Model Summary"
   ]
  },
  {
   "cell_type": "code",
   "execution_count": 16,
   "id": "6a765ef4-1e7d-4bcc-99bd-076929939fb0",
   "metadata": {},
   "outputs": [
    {
     "name": "stdout",
     "output_type": "stream",
     "text": [
      "Model: \"sequential\"\n",
      "_________________________________________________________________\n",
      " Layer (type)                Output Shape              Param #   \n",
      "=================================================================\n",
      " lstm (LSTM)                 (None, 50, 96)            37632     \n",
      "                                                                 \n",
      " dropout (Dropout)           (None, 50, 96)            0         \n",
      "                                                                 \n",
      " lstm_1 (LSTM)               (None, 50, 96)            74112     \n",
      "                                                                 \n",
      " dropout_1 (Dropout)         (None, 50, 96)            0         \n",
      "                                                                 \n",
      " lstm_2 (LSTM)               (None, 96)                74112     \n",
      "                                                                 \n",
      " dropout_2 (Dropout)         (None, 96)                0         \n",
      "                                                                 \n",
      " dense (Dense)               (None, 1)                 97        \n",
      "                                                                 \n",
      "=================================================================\n",
      "Total params: 185,953\n",
      "Trainable params: 185,953\n",
      "Non-trainable params: 0\n",
      "_________________________________________________________________\n"
     ]
    }
   ],
   "source": [
    "model.summary()"
   ]
  },
  {
   "cell_type": "markdown",
   "id": "3a667fb0-5fe7-41a8-8549-fbee937ca33e",
   "metadata": {},
   "source": [
    "<font size = 4><span style = 'background-color: #ddddff; padding: 5px 5px 3px 5px; line-height: 1.5; color:black;border-radius: 3px;'>Define loss function and optimizer"
   ]
  },
  {
   "cell_type": "code",
   "execution_count": 17,
   "id": "2a09742f-c56e-414a-9c86-0845918a5611",
   "metadata": {},
   "outputs": [],
   "source": [
    "model.compile(loss = 'mean_squared_error', \n",
    "\t\t\t  optimizer = \"adam\")"
   ]
  },
  {
   "cell_type": "markdown",
   "id": "79b9e865-8fe7-4c3c-858c-98481755cbac",
   "metadata": {},
   "source": [
    "<font size = 4><span style = 'background-color: #ddddff; padding: 5px 5px 3px 5px; line-height: 1.5; color:black;border-radius: 3px;'>Fitting the model"
   ]
  },
  {
   "cell_type": "code",
   "execution_count": 18,
   "id": "c67643f2-3036-4200-8093-53156c585720",
   "metadata": {},
   "outputs": [
    {
     "name": "stdout",
     "output_type": "stream",
     "text": [
      "Epoch 1/50\n",
      "30/30 [==============================] - 5s 80ms/step - loss: 0.0408\n",
      "Epoch 2/50\n",
      "30/30 [==============================] - 2s 66ms/step - loss: 0.0057\n",
      "Epoch 3/50\n",
      "30/30 [==============================] - 2s 65ms/step - loss: 0.0047\n",
      "Epoch 4/50\n",
      "30/30 [==============================] - 2s 63ms/step - loss: 0.0046\n",
      "Epoch 5/50\n",
      "30/30 [==============================] - 2s 66ms/step - loss: 0.0045\n",
      "Epoch 6/50\n",
      "30/30 [==============================] - 2s 61ms/step - loss: 0.0043\n",
      "Epoch 7/50\n",
      "30/30 [==============================] - 2s 61ms/step - loss: 0.0042\n",
      "Epoch 8/50\n",
      "30/30 [==============================] - 2s 63ms/step - loss: 0.0044\n",
      "Epoch 9/50\n",
      "30/30 [==============================] - 2s 64ms/step - loss: 0.0045\n",
      "Epoch 10/50\n",
      "30/30 [==============================] - 2s 65ms/step - loss: 0.0043\n",
      "Epoch 11/50\n",
      "30/30 [==============================] - 2s 65ms/step - loss: 0.0044\n",
      "Epoch 12/50\n",
      "30/30 [==============================] - 2s 65ms/step - loss: 0.0037\n",
      "Epoch 13/50\n",
      "30/30 [==============================] - 2s 62ms/step - loss: 0.0030\n",
      "Epoch 14/50\n",
      "30/30 [==============================] - 2s 61ms/step - loss: 0.0036\n",
      "Epoch 15/50\n",
      "30/30 [==============================] - 2s 62ms/step - loss: 0.0035\n",
      "Epoch 16/50\n",
      "30/30 [==============================] - 2s 65ms/step - loss: 0.0032\n",
      "Epoch 17/50\n",
      "30/30 [==============================] - 2s 65ms/step - loss: 0.0036\n",
      "Epoch 18/50\n",
      "30/30 [==============================] - 2s 65ms/step - loss: 0.0032\n",
      "Epoch 19/50\n",
      "30/30 [==============================] - 2s 64ms/step - loss: 0.0032\n",
      "Epoch 20/50\n",
      "30/30 [==============================] - 2s 65ms/step - loss: 0.0030\n",
      "Epoch 21/50\n",
      "30/30 [==============================] - 2s 62ms/step - loss: 0.0031\n",
      "Epoch 22/50\n",
      "30/30 [==============================] - 2s 65ms/step - loss: 0.0030\n",
      "Epoch 23/50\n",
      "30/30 [==============================] - 2s 63ms/step - loss: 0.0028\n",
      "Epoch 24/50\n",
      "30/30 [==============================] - 2s 63ms/step - loss: 0.0026\n",
      "Epoch 25/50\n",
      "30/30 [==============================] - 2s 62ms/step - loss: 0.0027\n",
      "Epoch 26/50\n",
      "30/30 [==============================] - 2s 64ms/step - loss: 0.0027\n",
      "Epoch 27/50\n",
      "30/30 [==============================] - 2s 62ms/step - loss: 0.0031\n",
      "Epoch 28/50\n",
      "30/30 [==============================] - 2s 61ms/step - loss: 0.0029\n",
      "Epoch 29/50\n",
      "30/30 [==============================] - 2s 60ms/step - loss: 0.0036\n",
      "Epoch 30/50\n",
      "30/30 [==============================] - 2s 62ms/step - loss: 0.0029\n",
      "Epoch 31/50\n",
      "30/30 [==============================] - 2s 62ms/step - loss: 0.0026\n",
      "Epoch 32/50\n",
      "30/30 [==============================] - 2s 62ms/step - loss: 0.0028\n",
      "Epoch 33/50\n",
      "30/30 [==============================] - 2s 64ms/step - loss: 0.0026\n",
      "Epoch 34/50\n",
      "30/30 [==============================] - 2s 62ms/step - loss: 0.0025\n",
      "Epoch 35/50\n",
      "30/30 [==============================] - 2s 65ms/step - loss: 0.0024\n",
      "Epoch 36/50\n",
      "30/30 [==============================] - 2s 60ms/step - loss: 0.0022\n",
      "Epoch 37/50\n",
      "30/30 [==============================] - 2s 63ms/step - loss: 0.0022\n",
      "Epoch 38/50\n",
      "30/30 [==============================] - 2s 60ms/step - loss: 0.0026\n",
      "Epoch 39/50\n",
      "30/30 [==============================] - 2s 64ms/step - loss: 0.0024\n",
      "Epoch 40/50\n",
      "30/30 [==============================] - 2s 62ms/step - loss: 0.0023\n",
      "Epoch 41/50\n",
      "30/30 [==============================] - 2s 64ms/step - loss: 0.0025\n",
      "Epoch 42/50\n",
      "30/30 [==============================] - 2s 65ms/step - loss: 0.0020\n",
      "Epoch 43/50\n",
      "30/30 [==============================] - 2s 62ms/step - loss: 0.0024\n",
      "Epoch 44/50\n",
      "30/30 [==============================] - 2s 65ms/step - loss: 0.0023\n",
      "Epoch 45/50\n",
      "30/30 [==============================] - 2s 64ms/step - loss: 0.0020\n",
      "Epoch 46/50\n",
      "30/30 [==============================] - 2s 62ms/step - loss: 0.0019\n",
      "Epoch 47/50\n",
      "30/30 [==============================] - 2s 62ms/step - loss: 0.0024\n",
      "Epoch 48/50\n",
      "30/30 [==============================] - 2s 63ms/step - loss: 0.0023\n",
      "Epoch 49/50\n",
      "30/30 [==============================] - 2s 61ms/step - loss: 0.0020\n",
      "Epoch 50/50\n",
      "30/30 [==============================] - 2s 61ms/step - loss: 0.0021\n"
     ]
    },
    {
     "data": {
      "text/plain": [
       "<keras.callbacks.History at 0x7f8b04beb070>"
      ]
     },
     "execution_count": 18,
     "metadata": {},
     "output_type": "execute_result"
    }
   ],
   "source": [
    "# if (not os.path.exists(r'/Users/evancarr/Library/CloudStorage/OneDrive-Personal/Code/udemy_nn_stock/stock_prediction_model.h5')):\n",
    "\n",
    "model.fit(x_train, y_train, epochs = 50, batch_size=32, verbose = 1)"
   ]
  },
  {
   "cell_type": "markdown",
   "id": "f803ce59-7bcb-4020-aaa4-2ef5e0d6eaa1",
   "metadata": {},
   "source": [
    "<font size = 4><span style = 'background-color: #ddddff; padding: 5px 5px 3px 5px; line-height: 1.5; color:black;border-radius: 3px;'>Saving the trained model"
   ]
  },
  {
   "cell_type": "code",
   "execution_count": 25,
   "id": "01b40444-f3df-457e-bf04-7acb6f1d6ad5",
   "metadata": {},
   "outputs": [],
   "source": [
    "model.save(\"stock_prediction_nn_model.h5\")"
   ]
  },
  {
   "cell_type": "markdown",
   "id": "3e0e0ba2-83f8-48a5-98fa-ad6fe99a6e12",
   "metadata": {},
   "source": [
    "<font size = 4><span style = 'background-color: #ddddff; padding: 5px 5px 3px 5px; line-height: 1.5; color:black;border-radius: 3px;'>Loading the trained model"
   ]
  },
  {
   "cell_type": "code",
   "execution_count": 20,
   "id": "9078b4e4-fd05-4066-b39a-3c7b91013700",
   "metadata": {},
   "outputs": [],
   "source": [
    "model = load_model(\"stock_prediction_nn_model.h5\")"
   ]
  },
  {
   "cell_type": "markdown",
   "id": "578af970-3adc-4a31-ba4f-f1e8852234c2",
   "metadata": {},
   "source": [
    "<font size = 4><span style = 'background-color: #ddddff; padding: 5px 5px 3px 5px; line-height: 1.5; color:black;border-radius: 3px;'>Making predictions"
   ]
  },
  {
   "cell_type": "code",
   "execution_count": 21,
   "id": "35f32abf-1548-464d-afbc-9f5c6f5f2aa8",
   "metadata": {},
   "outputs": [
    {
     "name": "stdout",
     "output_type": "stream",
     "text": [
      "8/8 [==============================] - 1s 21ms/step\n"
     ]
    }
   ],
   "source": [
    "predictions = model.predict(x_test)"
   ]
  },
  {
   "cell_type": "markdown",
   "id": "a68328a7-10af-46f7-aa98-76e549d03592",
   "metadata": {},
   "source": [
    "<font size = 4><span style = 'background-color: #ddddff; padding: 5px 5px 3px 5px; line-height: 1.5; color:black;border-radius: 3px;'>Unscale the predictions"
   ]
  },
  {
   "cell_type": "code",
   "execution_count": 22,
   "id": "ff549423-1cde-4ae5-8fa9-28bfbccc9560",
   "metadata": {},
   "outputs": [],
   "source": [
    "predictions = scaler.inverse_transform(predictions)"
   ]
  },
  {
   "cell_type": "code",
   "execution_count": 23,
   "id": "fe5b968e-e078-4d17-8615-5bbbe21a17cb",
   "metadata": {},
   "outputs": [
    {
     "data": {
      "text/plain": [
       "array([[126.885284],\n",
       "       [127.97619 ],\n",
       "       [128.76575 ],\n",
       "       [129.36183 ],\n",
       "       [129.85344 ],\n",
       "       [130.27248 ]], dtype=float32)"
      ]
     },
     "execution_count": 23,
     "metadata": {},
     "output_type": "execute_result"
    }
   ],
   "source": [
    "predictions[0:6]"
   ]
  },
  {
   "cell_type": "markdown",
   "id": "67c17131-fb22-4b92-af85-aec9af611f70",
   "metadata": {},
   "source": [
    "<font size = 4><span style = 'background-color: #ddddff; padding: 5px 5px 3px 5px; line-height: 1.5; color:black;border-radius: 3px;'>Visualizing Predictions vs Training Data"
   ]
  },
  {
   "cell_type": "code",
   "execution_count": 38,
   "id": "61956daf-7c84-48f7-9255-4b12ba45d9b4",
   "metadata": {},
   "outputs": [
    {
     "name": "stdout",
     "output_type": "stream",
     "text": [
      "range(1007, 1259)\n"
     ]
    },
    {
     "data": {
      "image/png": "[encoded data removed]",
      "text/plain": [
       "<Figure size 800x400 with 1 Axes>"
      ]
     },
     "metadata": {},
     "output_type": "display_data"
    }
   ],
   "source": [
    "fig, ax = plt.subplots(figsize=(8,4), facecolor = \"cyan\")\n",
    "plt.plot(aapl, color='red', label='Target');\n",
    "ax.plot(range(len(y_train)+50, len(y_train)+50+len(predictions)),predictions,color='blue', label='Predicted');\n",
    "plt.title(\"Predictions vs Training Data\")\n",
    "plt.legend()\n",
    "print(range(len(y_train)+50, len(y_train)+50+len(predictions)))"
   ]
  },
  {
   "cell_type": "markdown",
   "id": "d8992787-0d86-4ab7-a1a5-f76244d44fa1",
   "metadata": {},
   "source": [
    "<font size = 4><span style = 'background-color: #ddddff; padding: 5px 5px 3px 5px; line-height: 1.5; color:black;border-radius: 3px;'>Visualizing Predictions vs Testing Data"
   ]
  },
  {
   "cell_type": "code",
   "execution_count": 34,
   "id": "8c49d128-124f-453d-9013-a609a1fe6c06",
   "metadata": {},
   "outputs": [],
   "source": [
    "y_test_scaled = scaler.inverse_transform(y_test.reshape(-1,1))"
   ]
  },
  {
   "cell_type": "code",
   "execution_count": 37,
   "id": "376ed552-ff64-4296-830a-46c5799de5cc",
   "metadata": {},
   "outputs": [
    {
     "data": {
      "text/plain": [
       "<matplotlib.legend.Legend at 0x7f8b05895d20>"
      ]
     },
     "execution_count": 37,
     "metadata": {},
     "output_type": "execute_result"
    },
    {
     "data": {
      "image/png": "[encoded data removed]",
      "text/plain": [
       "<Figure size 800x400 with 1 Axes>"
      ]
     },
     "metadata": {},
     "output_type": "display_data"
    }
   ],
   "source": [
    "fig, ax = plt.subplots(figsize=(8,4), facecolor = \"cyan\")\n",
    "ax.plot(y_test_scaled, color='red', label = 'True Price of testing set')\n",
    "plt.plot(predictions, color = 'blue', label='predicted')\n",
    "plt.title(\"Predictions vs Testing Data\")\n",
    "plt.legend()"
   ]
  },
  {
   "cell_type": "markdown",
   "id": "4eb6af21-3e58-4d88-8e62-62fc8a30085a",
   "metadata": {},
   "source": [
    "<font size = 4><span style = 'background-color: #ddddff; padding: 5px 5px 3px 5px; line-height: 1.5; color:black;border-radius: 3px;'>Text"
   ]
  },
  {
   "cell_type": "code",
   "execution_count": null,
   "id": "ba3259a0-d19e-4002-9386-9597609492d8",
   "metadata": {},
   "outputs": [],
   "source": []
  },
  {
   "cell_type": "markdown",
   "id": "f3ee196f-591e-41fb-bcc6-bede01fadcfa",
   "metadata": {},
   "source": [
    "<font size = 4><span style = 'background-color: #ddddff; padding: 5px 5px 3px 5px; line-height: 1.5; color:black;border-radius: 3px;'>Text"
   ]
  },
  {
   "cell_type": "code",
   "execution_count": null,
   "id": "af31e580-93bd-4eb1-98d2-d73d5af14ab0",
   "metadata": {},
   "outputs": [],
   "source": []
  },
  {
   "cell_type": "markdown",
   "id": "53dcb1ce-0647-423f-afac-8af9d526cfb7",
   "metadata": {
    "tags": []
   },
   "source": [
    "<a name=''></a>\n",
    "\n",
    "---\n",
    "\n",
    "**Sections:**  ●  [LINK](#link)  ●  [LINK](#link)  ●  [LINK](#link)  ●  [LINK](#link)  ●  [LINK](#link)   ●  [LINK](#link)   ●  [LINK](#link)   ●  [LINK](#link)   ●  [LINK](#link)   ●  [LINK](#link)   ●  [LINK](#link)   ●  [LINK](#link)   ●  [LINK](#link)   ●  [LINK](#link)\n",
    "\n",
    "---\n",
    "\n",
    "<span style = 'background-color: purple; padding: 5px 5px 3px 5px; line-height: 1.5; color:white;border-radius: 3px;'><font size = 4>label</font></span>"
   ]
  },
  {
   "cell_type": "code",
   "execution_count": 24,
   "id": "661ad409-3f5a-4b82-9436-a40c1ee3d548",
   "metadata": {},
   "outputs": [
    {
     "name": "stdout",
     "output_type": "stream",
     "text": [
      "Unexpected exception formatting exception. Falling back to standard exception\n"
     ]
    },
    {
     "name": "stderr",
     "output_type": "stream",
     "text": [
      "Traceback (most recent call last):\n",
      "  File \"/Users/evancarr/opt/anaconda3/envs/udemy_nn_stock/lib/python3.10/site-packages/IPython/core/interactiveshell.py\", line 3433, in run_code\n",
      "    exec(code_obj, self.user_global_ns, self.user_ns)\n",
      "  File \"/var/folders/wx/x69ggs7s5cgd2gw98rpcp8bm0000gn/T/ipykernel_38236/2579220818.py\", line 1, in <module>\n",
      "    import_all()\n",
      "  File \"/Users/evancarr/Library/CloudStorage/OneDrive-Personal/Code/udemy_nn_stock/helpers.py\", line 49, in import_all\n",
      "    yf_import()\n",
      "  File \"/Users/evancarr/Library/CloudStorage/OneDrive-Personal/Code/udemy_nn_stock/helpers.py\", line 44, in yf_import\n",
      "    yf = __import__('yfinance', globals(), locals())\n",
      "ModuleNotFoundError: No module named 'yfinance'\n",
      "\n",
      "During handling of the above exception, another exception occurred:\n",
      "\n",
      "Traceback (most recent call last):\n",
      "  File \"/Users/evancarr/opt/anaconda3/envs/udemy_nn_stock/lib/python3.10/site-packages/IPython/core/interactiveshell.py\", line 2052, in showtraceback\n",
      "    stb = self.InteractiveTB.structured_traceback(\n",
      "  File \"/Users/evancarr/opt/anaconda3/envs/udemy_nn_stock/lib/python3.10/site-packages/IPython/core/ultratb.py\", line 1118, in structured_traceback\n",
      "    return FormattedTB.structured_traceback(\n",
      "  File \"/Users/evancarr/opt/anaconda3/envs/udemy_nn_stock/lib/python3.10/site-packages/IPython/core/ultratb.py\", line 1012, in structured_traceback\n",
      "    return VerboseTB.structured_traceback(\n",
      "  File \"/Users/evancarr/opt/anaconda3/envs/udemy_nn_stock/lib/python3.10/site-packages/IPython/core/ultratb.py\", line 865, in structured_traceback\n",
      "    formatted_exception = self.format_exception_as_a_whole(etype, evalue, etb, number_of_lines_of_context,\n",
      "  File \"/Users/evancarr/opt/anaconda3/envs/udemy_nn_stock/lib/python3.10/site-packages/IPython/core/ultratb.py\", line 818, in format_exception_as_a_whole\n",
      "    frames.append(self.format_record(r))\n",
      "  File \"/Users/evancarr/opt/anaconda3/envs/udemy_nn_stock/lib/python3.10/site-packages/IPython/core/ultratb.py\", line 736, in format_record\n",
      "    result += ''.join(_format_traceback_lines(frame_info.lines, Colors, self.has_colors, lvals))\n",
      "  File \"/Users/evancarr/opt/anaconda3/envs/udemy_nn_stock/lib/python3.10/site-packages/stack_data/utils.py\", line 145, in cached_property_wrapper\n",
      "    value = obj.__dict__[self.func.__name__] = self.func(obj)\n",
      "  File \"/Users/evancarr/opt/anaconda3/envs/udemy_nn_stock/lib/python3.10/site-packages/stack_data/core.py\", line 698, in lines\n",
      "    pieces = self.included_pieces\n",
      "  File \"/Users/evancarr/opt/anaconda3/envs/udemy_nn_stock/lib/python3.10/site-packages/stack_data/utils.py\", line 145, in cached_property_wrapper\n",
      "    value = obj.__dict__[self.func.__name__] = self.func(obj)\n",
      "  File \"/Users/evancarr/opt/anaconda3/envs/udemy_nn_stock/lib/python3.10/site-packages/stack_data/core.py\", line 645, in included_pieces\n",
      "    scope_pieces = self.scope_pieces\n",
      "  File \"/Users/evancarr/opt/anaconda3/envs/udemy_nn_stock/lib/python3.10/site-packages/stack_data/utils.py\", line 145, in cached_property_wrapper\n",
      "    value = obj.__dict__[self.func.__name__] = self.func(obj)\n",
      "  File \"/Users/evancarr/opt/anaconda3/envs/udemy_nn_stock/lib/python3.10/site-packages/stack_data/core.py\", line 585, in scope_pieces\n",
      "    for piece in self.source.pieces\n",
      "  File \"/Users/evancarr/opt/anaconda3/envs/udemy_nn_stock/lib/python3.10/site-packages/stack_data/utils.py\", line 145, in cached_property_wrapper\n",
      "    value = obj.__dict__[self.func.__name__] = self.func(obj)\n",
      "  File \"/Users/evancarr/opt/anaconda3/envs/udemy_nn_stock/lib/python3.10/site-packages/stack_data/core.py\", line 90, in pieces\n",
      "    return list(self._clean_pieces())\n",
      "  File \"/Users/evancarr/opt/anaconda3/envs/udemy_nn_stock/lib/python3.10/site-packages/stack_data/core.py\", line 114, in _clean_pieces\n",
      "    raise AssertionError(\"Pieces mismatches: %s\" % mismatches)\n",
      "AssertionError: Pieces mismatches: [{277, 278}, {280, 281}, {443, 444}]\n"
     ]
    }
   ],
   "source": [
    "import_all()"
   ]
  },
  {
   "cell_type": "markdown",
   "id": "7320b38d-7381-4247-8fe9-6cb519db3b5d",
   "metadata": {},
   "source": [
    "<font size = 4><span style = 'background-color: #ddddff; padding: 5px 5px 3px 5px; line-height: 1.5; color:black;border-radius: 3px;'>Text"
   ]
  },
  {
   "cell_type": "code",
   "execution_count": null,
   "id": "59d58d78-1fe1-48f9-a893-65c4db44d556",
   "metadata": {},
   "outputs": [],
   "source": []
  },
  {
   "cell_type": "markdown",
   "id": "8c9742fd-3ca1-4f59-8d7b-7ef71d5a2c62",
   "metadata": {},
   "source": [
    "<font size = 4><span style = 'background-color: #ddddff; padding: 5px 5px 3px 5px; line-height: 1.5; color:black;border-radius: 3px;'>Text"
   ]
  },
  {
   "cell_type": "code",
   "execution_count": null,
   "id": "74f48240-be4c-4b38-9846-7d85e90c8daf",
   "metadata": {},
   "outputs": [],
   "source": []
  },
  {
   "cell_type": "markdown",
   "id": "5d5410af-86cc-42e3-90e9-1f68bea36526",
   "metadata": {},
   "source": [
    "<font size = 4><span style = 'background-color: #ddddff; padding: 5px 5px 3px 5px; line-height: 1.5; color:black;border-radius: 3px;'>Text"
   ]
  },
  {
   "cell_type": "code",
   "execution_count": null,
   "id": "075aa7f0-7cda-4046-8c31-1478d4f6ed93",
   "metadata": {},
   "outputs": [],
   "source": []
  },
  {
   "cell_type": "markdown",
   "id": "145f6887-4851-4ca3-a392-cbb5e8fd766e",
   "metadata": {},
   "source": [
    "<font size = 4><span style = 'background-color: #ddddff; padding: 5px 5px 3px 5px; line-height: 1.5; color:black;border-radius: 3px;'>Text"
   ]
  },
  {
   "cell_type": "code",
   "execution_count": null,
   "id": "5ba886de-42d2-4b3d-b248-76d655a8b536",
   "metadata": {},
   "outputs": [],
   "source": []
  },
  {
   "cell_type": "markdown",
   "id": "de180f9c-c60b-43ed-8f24-cb9135e9353f",
   "metadata": {},
   "source": [
    "<font size = 4><span style = 'background-color: #ddddff; padding: 5px 5px 3px 5px; line-height: 1.5; color:black;border-radius: 3px;'>Text"
   ]
  },
  {
   "cell_type": "code",
   "execution_count": null,
   "id": "8687607e-69c1-4107-8dd6-74423a2c1e33",
   "metadata": {},
   "outputs": [],
   "source": []
  },
  {
   "cell_type": "markdown",
   "id": "8f3a2034-c7b0-46ff-8a97-14f3881b973e",
   "metadata": {},
   "source": [
    "<font size = 4><span style = 'background-color: #ddddff; padding: 5px 5px 3px 5px; line-height: 1.5; color:black;border-radius: 3px;'>Text"
   ]
  },
  {
   "cell_type": "code",
   "execution_count": null,
   "id": "bae90f22-9eab-4f77-851a-b9386ba339cb",
   "metadata": {},
   "outputs": [],
   "source": []
  },
  {
   "cell_type": "markdown",
   "id": "3edcb546-aca2-41c3-b6f3-3b737e95ae61",
   "metadata": {},
   "source": [
    "<font size = 4><span style = 'background-color: #ddddff; padding: 5px 5px 3px 5px; line-height: 1.5; color:black;border-radius: 3px;'>Text"
   ]
  },
  {
   "cell_type": "code",
   "execution_count": null,
   "id": "b2a530ce-65e7-403e-a573-836cae9e052f",
   "metadata": {},
   "outputs": [],
   "source": []
  },
  {
   "cell_type": "markdown",
   "id": "0347276e-874e-43bf-aa7d-a9e3ac542654",
   "metadata": {
    "tags": []
   },
   "source": [
    "<a name=''></a>\n",
    "\n",
    "---\n",
    "\n",
    "**Sections:**  ●  [LINK](#link)  ●  [LINK](#link)  ●  [LINK](#link)  ●  [LINK](#link)  ●  [LINK](#link)   ●  [LINK](#link)   ●  [LINK](#link)   ●  [LINK](#link)   ●  [LINK](#link)   ●  [LINK](#link)   ●  [LINK](#link)   ●  [LINK](#link)   ●  [LINK](#link)   ●  [LINK](#link)\n",
    "\n",
    "---\n",
    "\n",
    "<span style = 'background-color: purple; padding: 5px 5px 3px 5px; line-height: 1.5; color:white;border-radius: 3px;'><font size = 4>label</font></span>"
   ]
  },
  {
   "cell_type": "code",
   "execution_count": null,
   "id": "ecda0e54-09d2-47bd-a4ff-d868b8a9666e",
   "metadata": {},
   "outputs": [],
   "source": [
    "import_all()"
   ]
  },
  {
   "cell_type": "markdown",
   "id": "ff3ed35a-c024-479b-80f8-84607f6ede4c",
   "metadata": {},
   "source": [
    "<font size = 4><span style = 'background-color: #ddddff; padding: 5px 5px 3px 5px; line-height: 1.5; color:black;border-radius: 3px;'>Text"
   ]
  },
  {
   "cell_type": "code",
   "execution_count": null,
   "id": "7448f2e3-2620-44a9-9cfa-ae003843fd72",
   "metadata": {},
   "outputs": [],
   "source": []
  },
  {
   "cell_type": "markdown",
   "id": "fa8d82a6-ce78-4365-a0eb-ae1b0a14b1ac",
   "metadata": {},
   "source": [
    "<font size = 4><span style = 'background-color: #ddddff; padding: 5px 5px 3px 5px; line-height: 1.5; color:black;border-radius: 3px;'>Text"
   ]
  },
  {
   "cell_type": "code",
   "execution_count": null,
   "id": "1f26c2c8-ea65-4f4c-978b-67cb59b83e9c",
   "metadata": {},
   "outputs": [],
   "source": []
  },
  {
   "cell_type": "markdown",
   "id": "69cf6176-6443-48ef-862a-d7bdd1e56fb7",
   "metadata": {},
   "source": [
    "<font size = 4><span style = 'background-color: #ddddff; padding: 5px 5px 3px 5px; line-height: 1.5; color:black;border-radius: 3px;'>Text"
   ]
  },
  {
   "cell_type": "code",
   "execution_count": null,
   "id": "c7006391-85f6-4743-b3f3-2f24cf066b09",
   "metadata": {},
   "outputs": [],
   "source": []
  },
  {
   "cell_type": "markdown",
   "id": "1b6b7876-7351-4882-ae4b-d265618ccbf6",
   "metadata": {},
   "source": [
    "<font size = 4><span style = 'background-color: #ddddff; padding: 5px 5px 3px 5px; line-height: 1.5; color:black;border-radius: 3px;'>Text"
   ]
  },
  {
   "cell_type": "code",
   "execution_count": null,
   "id": "c21c3e0b-2258-4690-93bc-02bd19cef186",
   "metadata": {},
   "outputs": [],
   "source": []
  },
  {
   "cell_type": "markdown",
   "id": "925bdcb1-be68-4c79-95f9-d11d3043452b",
   "metadata": {},
   "source": [
    "<font size = 4><span style = 'background-color: #ddddff; padding: 5px 5px 3px 5px; line-height: 1.5; color:black;border-radius: 3px;'>Text"
   ]
  },
  {
   "cell_type": "code",
   "execution_count": null,
   "id": "2bc9efe1-a8a8-4242-8ed4-740fd46361a9",
   "metadata": {},
   "outputs": [],
   "source": []
  },
  {
   "cell_type": "markdown",
   "id": "03058019-3d29-49a7-9294-f69255d71109",
   "metadata": {},
   "source": [
    "<font size = 4><span style = 'background-color: #ddddff; padding: 5px 5px 3px 5px; line-height: 1.5; color:black;border-radius: 3px;'>Text"
   ]
  },
  {
   "cell_type": "code",
   "execution_count": null,
   "id": "5d3f4490-f093-447f-bee8-8e281340b862",
   "metadata": {},
   "outputs": [],
   "source": []
  },
  {
   "cell_type": "markdown",
   "id": "5e0fd389-54de-4fb8-9ace-c1f5448eaa2b",
   "metadata": {},
   "source": [
    "<font size = 4><span style = 'background-color: #ddddff; padding: 5px 5px 3px 5px; line-height: 1.5; color:black;border-radius: 3px;'>Text"
   ]
  },
  {
   "cell_type": "code",
   "execution_count": null,
   "id": "b045e501-fc91-4201-8bc0-a9931e9c85e7",
   "metadata": {},
   "outputs": [],
   "source": []
  }
 ],
 "metadata": {
  "kernelspec": {
   "display_name": "Python 3 (ipykernel)",
   "language": "python",
   "name": "python3"
  },
  "language_info": {
   "codemirror_mode": {
    "name": "ipython",
    "version": 3
   },
   "file_extension": ".py",
   "mimetype": "text/x-python",
   "name": "python",
   "nbconvert_exporter": "python",
   "pygments_lexer": "ipython3",
   "version": "3.10.9"
  }
 },
 "nbformat": 4,
 "nbformat_minor": 5
}
